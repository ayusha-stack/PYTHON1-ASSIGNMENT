{
 "cells": [
  {
   "cell_type": "code",
   "execution_count": 1,
   "id": "60904cf9",
   "metadata": {},
   "outputs": [
    {
     "name": "stdout",
     "output_type": "stream",
     "text": [
      "['APPLE', 'BANANA', 'PEAR', 'APRICOT', 'ORANGE']\n"
     ]
    }
   ],
   "source": [
    "#question_no 1\n",
    "from functools import reduce\n",
    "\n",
    "\n",
    "fruits = [\"Apple\", \"Banana\", \"Pear\", \"Apricot\", \"Orange\"]\n",
    "\n",
    "\n",
    "upper_fruits = list(map(str.upper, fruits))\n",
    "\n",
    "\n",
    "\n",
    "\n",
    "print(upper_fruits)\n",
    "\n",
    "\n",
    "\n",
    "\n"
   ]
  },
  {
   "cell_type": "code",
   "execution_count": 4,
   "id": "ab81ee78",
   "metadata": {},
   "outputs": [
    {
     "name": "stdout",
     "output_type": "stream",
     "text": [
      "['APPLE', 'APRICOT']\n"
     ]
    }
   ],
   "source": [
    "\n",
    "filtered_fruits = list(filter(lambda x:x.startswith('A'), upper_fruits))\n",
    "\n",
    "print(filtered_fruits)\n"
   ]
  },
  {
   "cell_type": "code",
   "execution_count": 5,
   "id": "f85421a7",
   "metadata": {},
   "outputs": [
    {
     "name": "stdout",
     "output_type": "stream",
     "text": [
      "APPLEAPRICOT\n"
     ]
    }
   ],
   "source": [
    "\n",
    "concatenated_fruits = reduce(lambda x, y: x + y, filtered_fruits)\n",
    "\n",
    "print(concatenated_fruits)\n"
   ]
  },
  {
   "cell_type": "code",
   "execution_count": 6,
   "id": "43a106cf",
   "metadata": {},
   "outputs": [
    {
     "name": "stdout",
     "output_type": "stream",
     "text": [
      "5\n",
      "10\n",
      "15\n",
      "20\n",
      "25\n",
      "30\n",
      "35\n",
      "40\n",
      "45\n",
      "50\n"
     ]
    }
   ],
   "source": [
    "#generator using comprehension\n",
    "def multiples_generator_comprehension(number):\n",
    "    yield from (number * i for i in range(1, 11))\n",
    "\n",
    "\n",
    "generator = multiples_generator_comprehension(5)\n",
    "for multiple in generator:\n",
    "    print(multiple)\n"
   ]
  },
  {
   "cell_type": "code",
   "execution_count": 7,
   "id": "c40b6e28",
   "metadata": {},
   "outputs": [
    {
     "name": "stdout",
     "output_type": "stream",
     "text": [
      "5\n",
      "10\n",
      "15\n",
      "20\n",
      "25\n",
      "30\n",
      "35\n",
      "40\n",
      "45\n",
      "50\n"
     ]
    }
   ],
   "source": [
    "#genrator without comprehesion\n",
    "\n",
    "def multiples_generator(number):\n",
    "    for i in range(1, 11):\n",
    "        yield number * i\n",
    "\n",
    "\n",
    "generator = multiples_generator(5)\n",
    "for multiple in generator:\n",
    "    print(multiple)\n"
   ]
  },
  {
   "cell_type": "code",
   "execution_count": 8,
   "id": "7219a1bf",
   "metadata": {},
   "outputs": [],
   "source": [
    "#zipping two lists"
   ]
  },
  {
   "cell_type": "code",
   "execution_count": 9,
   "id": "1bd87d0e",
   "metadata": {},
   "outputs": [
    {
     "name": "stdout",
     "output_type": "stream",
     "text": [
      "[(1, 'apple'), (2, 'banana'), (3, 'carrot')]\n"
     ]
    }
   ],
   "source": [
    "list1 = [1, 2, 3]\n",
    "list2 = ['apple', 'banana', 'carrot']\n",
    "\n",
    "combined = list(zip(list1, list2))\n",
    "\n",
    "print(combined)\n"
   ]
  },
  {
   "cell_type": "code",
   "execution_count": null,
   "id": "5b70bf7e",
   "metadata": {},
   "outputs": [],
   "source": [
    "#combining list into dictionary"
   ]
  },
  {
   "cell_type": "code",
   "execution_count": 10,
   "id": "144001c2",
   "metadata": {},
   "outputs": [
    {
     "name": "stdout",
     "output_type": "stream",
     "text": [
      "{1: 'apple', 2: 'banana', 3: 'carrot'}\n"
     ]
    }
   ],
   "source": [
    "values = [1, 2, 3]\n",
    "keys = ['apple', 'banana', 'carrot']\n",
    "\n",
    "\n",
    "combined_dict = dict(zip(values,keys))\n",
    "\n",
    "print(combined_dict)"
   ]
  },
  {
   "cell_type": "code",
   "execution_count": 11,
   "id": "18ecea0f",
   "metadata": {},
   "outputs": [],
   "source": [
    "#max and min in dictionary\n"
   ]
  },
  {
   "cell_type": "code",
   "execution_count": 12,
   "id": "8965a5c5",
   "metadata": {},
   "outputs": [
    {
     "name": "stdout",
     "output_type": "stream",
     "text": [
      "maximum value: Roxanne\n",
      "minimum value: Theodore\n"
     ]
    }
   ],
   "source": [
    "data = {'Theodore': 19, 'Roxanne': 22, 'Mathew': 21, 'Betty': 20}\n",
    "\n",
    "max_key = max(data, key=data.get)\n",
    "min_key = min(data, key=data.get)\n",
    "\n",
    "print(\"maximum value:\", max_key)\n",
    "print(\"minimum value:\", min_key)\n",
    "\n",
    "\n"
   ]
  },
  {
   "cell_type": "code",
   "execution_count": 13,
   "id": "1f5d5216",
   "metadata": {},
   "outputs": [
    {
     "name": "stdout",
     "output_type": "stream",
     "text": [
      "0\n",
      "1\n",
      "2\n",
      "3\n",
      "4\n",
      "7\n",
      "8\n",
      "9\n",
      "10\n",
      "11\n",
      "13\n",
      "14\n",
      "16\n",
      "17\n",
      "18\n",
      "19\n",
      "20\n"
     ]
    }
   ],
   "source": [
    "#skipping using continue\n",
    "numbers_to_skip = [5, 6, 12, 15]\n",
    "\n",
    "for num in range(21):\n",
    "    if num in numbers_to_skip:\n",
    "        continue\n",
    "    print(num)\n"
   ]
  },
  {
   "cell_type": "code",
   "execution_count": 14,
   "id": "6c319ec2",
   "metadata": {},
   "outputs": [
    {
     "name": "stdout",
     "output_type": "stream",
     "text": [
      "Original list: [0, 0, 1, 2, 3, 4, 4, 5, 6, 6, 6, 7, 8, 9, 4, 4]\n",
      "List with consecutive duplicates removed: [0, 1, 2, 3, 4, 5, 6, 7, 8, 9, 4]\n"
     ]
    }
   ],
   "source": [
    "#removing duplicates\n",
    "initial_input = [0, 0, 1, 2, 3, 4, 4, 5, 6, 6, 6, 7, 8, 9, 4, 4]\n",
    "result = []\n",
    "\n",
    "\n",
    "for i in range(len(initial_input)):\n",
    "    if i < len(initial_input) - 1 and initial_input[i] == initial_input[i + 1]:\n",
    "        continue\n",
    "    result.append(initial_input[i])\n",
    "\n",
    "print(\"Original list:\", initial_input)\n",
    "print(\"List with consecutive duplicates removed:\", result)\n"
   ]
  },
  {
   "cell_type": "code",
   "execution_count": 15,
   "id": "9a83e97c",
   "metadata": {},
   "outputs": [
    {
     "name": "stdout",
     "output_type": "stream",
     "text": [
      "{'apple': 5, 'banana': 6, 'pear': 4, 'orange': 6}\n"
     ]
    }
   ],
   "source": [
    "#list of words\n",
    "word_list = ['apple', 'banana', 'pear', 'orange']\n",
    "\n",
    "word_lengths_dict = {word: len(word) for word in word_list}\n",
    "\n",
    "print(word_lengths_dict)\n"
   ]
  },
  {
   "cell_type": "code",
   "execution_count": 16,
   "id": "c9936e21",
   "metadata": {},
   "outputs": [
    {
     "name": "stdout",
     "output_type": "stream",
     "text": [
      "[2, 4, 6, 8, 10]\n"
     ]
    }
   ],
   "source": [
    "#even_numbers list\n",
    "integer_list = [1, 2, 3, 4, 5, 6, 7, 8, 9, 10]\n",
    "\n",
    "even_numbers = list(filter(lambda x: x % 2 == 0, integer_list))\n",
    "\n",
    "print(even_numbers)\n"
   ]
  },
  {
   "cell_type": "code",
   "execution_count": null,
   "id": "d97f7a7f",
   "metadata": {},
   "outputs": [],
   "source": []
  }
 ],
 "metadata": {
  "kernelspec": {
   "display_name": "Python 3 (ipykernel)",
   "language": "python",
   "name": "python3"
  },
  "language_info": {
   "codemirror_mode": {
    "name": "ipython",
    "version": 3
   },
   "file_extension": ".py",
   "mimetype": "text/x-python",
   "name": "python",
   "nbconvert_exporter": "python",
   "pygments_lexer": "ipython3",
   "version": "3.11.2"
  }
 },
 "nbformat": 4,
 "nbformat_minor": 5
}
